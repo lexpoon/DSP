{
 "cells": [
  {
   "cell_type": "markdown",
   "metadata": {},
   "source": [
    "# Clean AdresMusea"
   ]
  },
  {
   "cell_type": "markdown",
   "metadata": {},
   "source": [
    "## Import packages and set pandas options"
   ]
  },
  {
   "cell_type": "code",
   "execution_count": 1,
   "metadata": {},
   "outputs": [],
   "source": [
    "import numpy as np\n",
    "import pandas as pd\n",
    "import tldextract\n",
    "import os\n",
    "import matplotlib.pyplot as plt\n",
    "import seaborn as sns\n",
    "%matplotlib inline\n",
    "\n",
    "# pd.set_option('max_row', None)\n",
    "pd.set_option('max_columns', None)"
   ]
  },
  {
   "cell_type": "markdown",
   "metadata": {},
   "source": [
    "## Load CSV's"
   ]
  },
  {
   "cell_type": "code",
   "execution_count": 2,
   "metadata": {},
   "outputs": [],
   "source": [
    "musea_df = pd.read_csv('musea.csv')\n",
    "updated_musea_df = pd.read_csv('musea_updated.csv')\n",
    "adres_musea = pd.read_excel('AdresData Musea.xlsx', header=1)\n",
    "musea_df.drop_duplicates(subset=['translationSetId'], inplace=True)"
   ]
  },
  {
   "cell_type": "markdown",
   "metadata": {},
   "source": [
    "# Museumnl Categories"
   ]
  },
  {
   "cell_type": "code",
   "execution_count": 3,
   "metadata": {},
   "outputs": [
    {
     "data": {
      "image/png": "[encoded data removed]",
      "text/plain": [
       "<Figure size 432x288 with 1 Axes>"
      ]
     },
     "metadata": {
      "needs_background": "light"
     },
     "output_type": "display_data"
    }
   ],
   "source": [
    "# x = musea_df['mainCategory'].value_counts(dropna=False)\n",
    "musea_df.mainCategory.fillna(\"NoCategory\", inplace=True)\n",
    "cat_plot = musea_df.mainCategory.value_counts()\n",
    "cat_plot.plot.barh()\n",
    "plt.xlabel('Number of museums')\n",
    "plt.title('Categories of museum.nl')\n",
    "plt.savefig('categories_barh', dpi=300)"
   ]
  },
  {
   "cell_type": "code",
   "execution_count": 4,
   "metadata": {},
   "outputs": [
    {
     "name": "stdout",
     "output_type": "stream",
     "text": [
      "History                      358\n",
      "Art                          152\n",
      "NaN                           74\n",
      "BusinessScienceTechnology     63\n",
      "NaturalHistory                43\n",
      "Ethnology                      6\n",
      "Name: mainCategory, dtype: int64\n"
     ]
    },
    {
     "name": "stderr",
     "output_type": "stream",
     "text": [
      "/usr/local/lib/python3.8/site-packages/seaborn/_decorators.py:36: FutureWarning: Pass the following variable as a keyword arg: x. From version 0.12, the only valid positional argument will be `data`, and passing other arguments without an explicit keyword will result in an error or misinterpretation.\n",
      "  warnings.warn(\n"
     ]
    },
    {
     "data": {
      "image/png": "[encoded data removed]",
      "text/plain": [
       "<Figure size 432x288 with 1 Axes>"
      ]
     },
     "metadata": {
      "needs_background": "light"
     },
     "output_type": "display_data"
    }
   ],
   "source": [
    "updated_musea_df.mainCategory.fillna(\"NaN\", inplace=True)\n",
    "print (updated_musea_df.mainCategory.value_counts())\n",
    "\n",
    "# fig, ax = plt.subplots(figsize=(12,4))\n",
    "fig, ax = plt.subplots(figsize=None)\n",
    "sns.countplot(updated_musea_df['mainCategory'], ax=ax)\n",
    "plt.title('Categories of museum.nl')\n",
    "plt.ylabel('Num. museums')\n",
    "plt.xticks(rotation=45, ha='right')\n",
    "plt.xlabel('')\n",
    "plt.show()"
   ]
  },
  {
   "cell_type": "markdown",
   "metadata": {},
   "source": [
    "## Edit and Compare by website"
   ]
  },
  {
   "cell_type": "code",
   "execution_count": 5,
   "metadata": {},
   "outputs": [],
   "source": [
    "def uniform_website(df):   \n",
    "    df['site_sld'] = df['website']\n",
    "    df.site_sld = df['site_sld'].apply(lambda url: tldextract.extract(url).domain if type(url) == str else url)\n",
    "    df.site_sld = df.site_sld.str.lower()\n",
    "    \n",
    "    return df\n",
    "\n",
    "def compare_website(df1, df2):   \n",
    "    \n",
    "    df1 = uniform_website(df1)[['publicName', 'site_sld', 'translationSetId']]\n",
    "    df2 = uniform_website(df2)[['site_sld', 'aantal bezoekers p/jr', 'museaal_thema']]\n",
    "    df2 = df2.drop_duplicates(subset=['site_sld'])\n",
    "    \n",
    "    # Inner merge dataframes by SLD\n",
    "    output = df1.merge(df2, how=\"inner\", left_on='site_sld', right_on='site_sld')\n",
    "    output.drop(['site_sld'], axis=1, inplace=True)\n",
    "    \n",
    "    return output"
   ]
  },
  {
   "cell_type": "markdown",
   "metadata": {},
   "source": [
    "## Edit and Compare by museum name"
   ]
  },
  {
   "cell_type": "code",
   "execution_count": 6,
   "metadata": {},
   "outputs": [],
   "source": [
    "def uniform_museum_name(df, column_name):\n",
    "    # Clean columns to get uniform values\n",
    "    df['naam'] = df[column_name]\n",
    "    \n",
    "    df.naam = df.naam.str.lower().str.replace('museum','')\n",
    "    df.naam = df.naam.str.replace('de','')\n",
    "    df.naam = df.naam.str.replace('het','')\n",
    "    df.naam = df.naam.str.replace('[^\\w\\s]','')\n",
    "    df.naam = df.naam.replace('\\s+', ' ', regex=True)\n",
    "    df.naam = df.naam.str.strip()\n",
    "    \n",
    "    return df\n",
    "\n",
    "def compare_name(df1, df2):\n",
    "    df1 = uniform_museum_name(df1, 'publicName')[['publicName', 'translationSetId', 'naam']]\n",
    "    df2 = uniform_museum_name(df2, 'organisatie_naam')[['naam', 'aantal bezoekers p/jr', 'museaal_thema']]\n",
    "    \n",
    "    output = df1.merge(df2, how=\"inner\", left_on='naam', right_on='naam')\n",
    "    output.drop(['naam'], axis=1, inplace=True)\n",
    "\n",
    "    return output"
   ]
  },
  {
   "cell_type": "code",
   "execution_count": 7,
   "metadata": {},
   "outputs": [],
   "source": [
    "def concat_one_hot_dfs(df1, df2):\n",
    "    site_df = compare_website(df1, df2)\n",
    "    naam_df = compare_name(df1, df2)\n",
    "    result = pd.concat([site_df, naam_df]).drop_duplicates().reset_index(drop=True)\n",
    "    \n",
    "    one_hot_cat = result.museaal_thema.str.get_dummies(', ')\n",
    "    categories = pd.concat([result, one_hot_cat], axis=1)\n",
    "    \n",
    "    if 'overig' in categories:\n",
    "        categories.drop(['museaal_thema', 'overig'], axis=1, inplace=True)\n",
    "    else:\n",
    "        categories.drop(['museaal_thema'], axis=1, inplace=True)\n",
    "    \n",
    "    category_dict = {\"maritiem/scheepvaart\": \"Naval\", \"natuurhistorie\": \"Nature\", \n",
    "                     \"transport/technisch\": \"Tech\", \"archeologie/historie\": \"History\", \n",
    "                     \"aantal bezoekers p/jr\": \"Visitors\", \"cultuurhistorie\": \"Culture\", \n",
    "                     \"beeldende kunst\": \"Visual\", \"volkenkunde\": \"Ethnology\"}\n",
    "    \n",
    "    for k, v in category_dict.items():\n",
    "        if k in categories:\n",
    "            categories.rename(columns={k:v}, inplace=True)\n",
    "    \n",
    "    categories.sort_values(by=['publicName'], axis=0, inplace=True)\n",
    "    \n",
    "    output = categories.groupby(['publicName', 'translationSetId'], as_index=False).agg('sum')\n",
    "    missing = df1[~df1.translationSetId.isin(output.translationSetId)][['publicName', 'translationSetId']]\n",
    "    \n",
    "    result = output.append(missing)\n",
    "    \n",
    "    categories_eng = ['History', 'Visual', 'Culture', 'Naval', 'Nature', 'Tech','Ethnology']\n",
    "    for x in categories_eng:\n",
    "        if x in result:\n",
    "            result.update(result[[x]].fillna(0))\n",
    "    \n",
    "    manual = pd.read_csv('handmatig_musea.csv', sep=';')\n",
    "    output = result.append(manual, ignore_index=True)\n",
    "    output.update(output[['History', 'Visual', 'Culture', 'Naval', 'Nature', 'Tech','Ethnology']].fillna(0))\n",
    "    output.drop_duplicates(subset=['translationSetId'], keep='last', inplace=True)\n",
    "    output = output.sort_values(by=['publicName']).reset_index(drop=True)\n",
    "    \n",
    "    return output"
   ]
  },
  {
   "cell_type": "markdown",
   "metadata": {},
   "source": [
    "# Run script with df's"
   ]
  },
  {
   "cell_type": "code",
   "execution_count": 8,
   "metadata": {},
   "outputs": [],
   "source": [
    "original = concat_one_hot_dfs(musea_df, adres_musea)\n",
    "new = concat_one_hot_dfs(updated_musea_df, adres_musea)"
   ]
  },
  {
   "cell_type": "code",
   "execution_count": 9,
   "metadata": {},
   "outputs": [
    {
     "data": {
      "text/html": [
       "<div>\n",
       "<style scoped>\n",
       "    .dataframe tbody tr th:only-of-type {\n",
       "        vertical-align: middle;\n",
       "    }\n",
       "\n",
       "    .dataframe tbody tr th {\n",
       "        vertical-align: top;\n",
       "    }\n",
       "\n",
       "    .dataframe thead th {\n",
       "        text-align: right;\n",
       "    }\n",
       "</style>\n",
       "<table border=\"1\" class=\"dataframe\">\n",
       "  <thead>\n",
       "    <tr style=\"text-align: right;\">\n",
       "      <th></th>\n",
       "      <th>publicName</th>\n",
       "      <th>translationSetId</th>\n",
       "      <th>Visitors</th>\n",
       "      <th>History</th>\n",
       "      <th>Visual</th>\n",
       "      <th>Culture</th>\n",
       "      <th>Naval</th>\n",
       "      <th>Nature</th>\n",
       "      <th>Tech</th>\n",
       "      <th>Ethnology</th>\n",
       "    </tr>\n",
       "  </thead>\n",
       "  <tbody>\n",
       "    <tr>\n",
       "      <th>62</th>\n",
       "      <td>Fashion for Good</td>\n",
       "      <td>3d48d03b-350c-449c-9f2a-2a4b71e16996</td>\n",
       "      <td>NaN</td>\n",
       "      <td>0.0</td>\n",
       "      <td>0.0</td>\n",
       "      <td>0.0</td>\n",
       "      <td>0.0</td>\n",
       "      <td>0.0</td>\n",
       "      <td>0.0</td>\n",
       "      <td>0.0</td>\n",
       "    </tr>\n",
       "    <tr>\n",
       "      <th>121</th>\n",
       "      <td>Historisch Museum Vriezenveen</td>\n",
       "      <td>4789c628-eddb-4bc5-b270-a1e7454c1b4c</td>\n",
       "      <td>5000.0</td>\n",
       "      <td>1.0</td>\n",
       "      <td>0.0</td>\n",
       "      <td>1.0</td>\n",
       "      <td>0.0</td>\n",
       "      <td>0.0</td>\n",
       "      <td>0.0</td>\n",
       "      <td>0.0</td>\n",
       "    </tr>\n",
       "    <tr>\n",
       "      <th>129</th>\n",
       "      <td>Huis van Hilde</td>\n",
       "      <td>f7d86ac9-4f08-4628-954b-0afec628135d</td>\n",
       "      <td>45000.0</td>\n",
       "      <td>1.0</td>\n",
       "      <td>0.0</td>\n",
       "      <td>0.0</td>\n",
       "      <td>0.0</td>\n",
       "      <td>0.0</td>\n",
       "      <td>0.0</td>\n",
       "      <td>0.0</td>\n",
       "    </tr>\n",
       "    <tr>\n",
       "      <th>190</th>\n",
       "      <td>Luther Museum Amsterdam</td>\n",
       "      <td>1741c155-69f9-4e04-a47d-07555844dbed</td>\n",
       "      <td>0.0</td>\n",
       "      <td>0.0</td>\n",
       "      <td>0.0</td>\n",
       "      <td>1.0</td>\n",
       "      <td>0.0</td>\n",
       "      <td>0.0</td>\n",
       "      <td>0.0</td>\n",
       "      <td>0.0</td>\n",
       "    </tr>\n",
       "    <tr>\n",
       "      <th>313</th>\n",
       "      <td>Museum Vincentre | Van Gogh Village Nuenen</td>\n",
       "      <td>ad31f144-5a03-46d7-88b6-8ebd048bbabc</td>\n",
       "      <td>20000.0</td>\n",
       "      <td>0.0</td>\n",
       "      <td>1.0</td>\n",
       "      <td>0.0</td>\n",
       "      <td>0.0</td>\n",
       "      <td>0.0</td>\n",
       "      <td>0.0</td>\n",
       "      <td>0.0</td>\n",
       "    </tr>\n",
       "    <tr>\n",
       "      <th>376</th>\n",
       "      <td>Nederlands Pluimveemuseum</td>\n",
       "      <td>4a0e3a07-7a4c-4e95-825b-a3b4ebb11c06</td>\n",
       "      <td>25000.0</td>\n",
       "      <td>0.0</td>\n",
       "      <td>0.0</td>\n",
       "      <td>0.0</td>\n",
       "      <td>0.0</td>\n",
       "      <td>1.0</td>\n",
       "      <td>0.0</td>\n",
       "      <td>0.0</td>\n",
       "    </tr>\n",
       "    <tr>\n",
       "      <th>444</th>\n",
       "      <td>Storyworld | Forum Groningen</td>\n",
       "      <td>acfa8d9d-7062-4b90-b8fa-03a9d8535991</td>\n",
       "      <td>NaN</td>\n",
       "      <td>0.0</td>\n",
       "      <td>0.0</td>\n",
       "      <td>0.0</td>\n",
       "      <td>0.0</td>\n",
       "      <td>0.0</td>\n",
       "      <td>0.0</td>\n",
       "      <td>0.0</td>\n",
       "    </tr>\n",
       "    <tr>\n",
       "      <th>467</th>\n",
       "      <td>Van Eesteren Museum</td>\n",
       "      <td>90e9a9bf-284c-44c7-8934-b0475e7a33d1</td>\n",
       "      <td>3500.0</td>\n",
       "      <td>0.0</td>\n",
       "      <td>0.0</td>\n",
       "      <td>1.0</td>\n",
       "      <td>0.0</td>\n",
       "      <td>0.0</td>\n",
       "      <td>0.0</td>\n",
       "      <td>0.0</td>\n",
       "    </tr>\n",
       "    <tr>\n",
       "      <th>469</th>\n",
       "      <td>Van ’t Lindenhoutmuseum</td>\n",
       "      <td>35feee30-9531-4f35-9b6f-1ac5bf58934f</td>\n",
       "      <td>4000.0</td>\n",
       "      <td>1.0</td>\n",
       "      <td>0.0</td>\n",
       "      <td>1.0</td>\n",
       "      <td>0.0</td>\n",
       "      <td>0.0</td>\n",
       "      <td>0.0</td>\n",
       "      <td>0.0</td>\n",
       "    </tr>\n",
       "  </tbody>\n",
       "</table>\n",
       "</div>"
      ],
      "text/plain": [
       "                                     publicName  \\\n",
       "62                             Fashion for Good   \n",
       "121               Historisch Museum Vriezenveen   \n",
       "129                              Huis van Hilde   \n",
       "190                     Luther Museum Amsterdam   \n",
       "313  Museum Vincentre | Van Gogh Village Nuenen   \n",
       "376                   Nederlands Pluimveemuseum   \n",
       "444                Storyworld | Forum Groningen   \n",
       "467                         Van Eesteren Museum   \n",
       "469                     Van ’t Lindenhoutmuseum   \n",
       "\n",
       "                         translationSetId  Visitors  History  Visual  Culture  \\\n",
       "62   3d48d03b-350c-449c-9f2a-2a4b71e16996       NaN      0.0     0.0      0.0   \n",
       "121  4789c628-eddb-4bc5-b270-a1e7454c1b4c    5000.0      1.0     0.0      1.0   \n",
       "129  f7d86ac9-4f08-4628-954b-0afec628135d   45000.0      1.0     0.0      0.0   \n",
       "190  1741c155-69f9-4e04-a47d-07555844dbed       0.0      0.0     0.0      1.0   \n",
       "313  ad31f144-5a03-46d7-88b6-8ebd048bbabc   20000.0      0.0     1.0      0.0   \n",
       "376  4a0e3a07-7a4c-4e95-825b-a3b4ebb11c06   25000.0      0.0     0.0      0.0   \n",
       "444  acfa8d9d-7062-4b90-b8fa-03a9d8535991       NaN      0.0     0.0      0.0   \n",
       "467  90e9a9bf-284c-44c7-8934-b0475e7a33d1    3500.0      0.0     0.0      1.0   \n",
       "469  35feee30-9531-4f35-9b6f-1ac5bf58934f    4000.0      1.0     0.0      1.0   \n",
       "\n",
       "     Naval  Nature  Tech  Ethnology  \n",
       "62     0.0     0.0   0.0        0.0  \n",
       "121    0.0     0.0   0.0        0.0  \n",
       "129    0.0     0.0   0.0        0.0  \n",
       "190    0.0     0.0   0.0        0.0  \n",
       "313    0.0     0.0   0.0        0.0  \n",
       "376    0.0     1.0   0.0        0.0  \n",
       "444    0.0     0.0   0.0        0.0  \n",
       "467    0.0     0.0   0.0        0.0  \n",
       "469    0.0     0.0   0.0        0.0  "
      ]
     },
     "execution_count": 9,
     "metadata": {},
     "output_type": "execute_result"
    }
   ],
   "source": [
    "new[~new['translationSetId'].isin(original['translationSetId'])]"
   ]
  },
  {
   "cell_type": "markdown",
   "metadata": {},
   "source": [
    "# Define small/large musea"
   ]
  },
  {
   "cell_type": "code",
   "execution_count": 10,
   "metadata": {},
   "outputs": [],
   "source": [
    "def small_large(df):\n",
    "    print (\"num of matched musea with visitors:\")\n",
    "    print (df.Visitors.isna().value_counts())\n",
    "    df = df.fillna(df.Visitors.median())\n",
    "    df['small_museum'] = 0\n",
    "\n",
    "    df.Visitors <= df.Visitors.median()\n",
    "\n",
    "    mask = df.Visitors <= df.Visitors.median()\n",
    "    column_name = 'small_museum'\n",
    "    df.loc[mask, column_name] = 1\n",
    "    \n",
    "    return df"
   ]
  },
  {
   "cell_type": "markdown",
   "metadata": {},
   "source": [
    "# Define Small/Large Museums"
   ]
  },
  {
   "cell_type": "code",
   "execution_count": 11,
   "metadata": {},
   "outputs": [
    {
     "data": {
      "text/plain": [
       "(457, 1)"
      ]
     },
     "execution_count": 11,
     "metadata": {},
     "output_type": "execute_result"
    }
   ],
   "source": [
    "test_df = new[['Visitors']].dropna()\n",
    "test_df.shape"
   ]
  },
  {
   "cell_type": "code",
   "execution_count": 12,
   "metadata": {},
   "outputs": [
    {
     "data": {
      "text/plain": [
       "(451, 1)"
      ]
     },
     "execution_count": 12,
     "metadata": {},
     "output_type": "execute_result"
    }
   ],
   "source": [
    "from scipy.stats import zscore\n",
    "\n",
    "z_scores = zscore(test_df)\n",
    "abs_z_scores = np.abs(z_scores)\n",
    "filtered_entries = (abs_z_scores < 3).all(axis=1)\n",
    "new_df = test_df[filtered_entries]\n",
    "\n",
    "new_df.shape"
   ]
  },
  {
   "cell_type": "code",
   "execution_count": 13,
   "metadata": {},
   "outputs": [
    {
     "data": {
      "text/html": [
       "<div>\n",
       "<style scoped>\n",
       "    .dataframe tbody tr th:only-of-type {\n",
       "        vertical-align: middle;\n",
       "    }\n",
       "\n",
       "    .dataframe tbody tr th {\n",
       "        vertical-align: top;\n",
       "    }\n",
       "\n",
       "    .dataframe thead th {\n",
       "        text-align: right;\n",
       "    }\n",
       "</style>\n",
       "<table border=\"1\" class=\"dataframe\">\n",
       "  <thead>\n",
       "    <tr style=\"text-align: right;\">\n",
       "      <th></th>\n",
       "      <th>Visitors</th>\n",
       "    </tr>\n",
       "  </thead>\n",
       "  <tbody>\n",
       "    <tr>\n",
       "      <th>count</th>\n",
       "      <td>451.000000</td>\n",
       "    </tr>\n",
       "    <tr>\n",
       "      <th>mean</th>\n",
       "      <td>51668.337029</td>\n",
       "    </tr>\n",
       "    <tr>\n",
       "      <th>std</th>\n",
       "      <td>82122.404121</td>\n",
       "    </tr>\n",
       "    <tr>\n",
       "      <th>min</th>\n",
       "      <td>0.000000</td>\n",
       "    </tr>\n",
       "    <tr>\n",
       "      <th>25%</th>\n",
       "      <td>8000.000000</td>\n",
       "    </tr>\n",
       "    <tr>\n",
       "      <th>50%</th>\n",
       "      <td>20000.000000</td>\n",
       "    </tr>\n",
       "    <tr>\n",
       "      <th>75%</th>\n",
       "      <td>55000.000000</td>\n",
       "    </tr>\n",
       "    <tr>\n",
       "      <th>max</th>\n",
       "      <td>540000.000000</td>\n",
       "    </tr>\n",
       "  </tbody>\n",
       "</table>\n",
       "</div>"
      ],
      "text/plain": [
       "            Visitors\n",
       "count     451.000000\n",
       "mean    51668.337029\n",
       "std     82122.404121\n",
       "min         0.000000\n",
       "25%      8000.000000\n",
       "50%     20000.000000\n",
       "75%     55000.000000\n",
       "max    540000.000000"
      ]
     },
     "execution_count": 13,
     "metadata": {},
     "output_type": "execute_result"
    }
   ],
   "source": [
    "new_df.describe()"
   ]
  },
  {
   "cell_type": "code",
   "execution_count": 14,
   "metadata": {},
   "outputs": [
    {
     "data": {
      "text/plain": [
       "67459.24726477024"
      ]
     },
     "execution_count": 14,
     "metadata": {},
     "output_type": "execute_result"
    }
   ],
   "source": [
    "pd.set_option('display.float_format', lambda x: '%.3f' % x)\n",
    "np.mean(new[['Visitors']]).values[0]\n",
    "\n",
    "# len(hist_y[hist_y <= np.median(hist_y)])"
   ]
  },
  {
   "cell_type": "code",
   "execution_count": 15,
   "metadata": {},
   "outputs": [
    {
     "data": {
      "text/plain": [
       "359"
      ]
     },
     "execution_count": 15,
     "metadata": {},
     "output_type": "execute_result"
    }
   ],
   "source": [
    "hist_y = new.Visitors.dropna().sort_values().values\n",
    "len(hist_y[hist_y < np.mean(new[['Visitors']]).values[0]])"
   ]
  },
  {
   "cell_type": "code",
   "execution_count": 16,
   "metadata": {},
   "outputs": [
    {
     "data": {
      "image/png": "[encoded data removed]",
      "text/plain": [
       "<Figure size 432x288 with 1 Axes>"
      ]
     },
     "metadata": {
      "needs_background": "light"
     },
     "output_type": "display_data"
    }
   ],
   "source": [
    "hist_y = new.Visitors.dropna().sort_values().values\n",
    "hist_x = new.Visitors.dropna().sort_values().reset_index(drop=True).index\n",
    "middle = len(hist_y[hist_y <= np.median(hist_y)])\n",
    "\n",
    "ax = plt.axes(xscale='linear', yscale='log')\n",
    "\n",
    "plt.bar(hist_x, hist_y, align='center')\n",
    "plt.axvline(middle, color='k', linestyle='dashed', linewidth=1)\n",
    "min_ylim, max_ylim = plt.ylim()\n",
    "plt.text(middle*1.1, max_ylim*0.5, 'Median at: {:}'.format(np.median(hist_y)))\n",
    "plt.title('Number of visitors per museum')\n",
    "plt.xlabel('Museum')\n",
    "plt.ylabel('Number of Visitors (log scale) ')\n",
    "plt.savefig('museum_visitors', dpi=300)\n",
    "plt.show()"
   ]
  },
  {
   "cell_type": "code",
   "execution_count": 17,
   "metadata": {},
   "outputs": [
    {
     "name": "stdout",
     "output_type": "stream",
     "text": [
      "num of matched musea with visitors:\n",
      "False    457\n",
      "True      48\n",
      "Name: Visitors, dtype: int64\n",
      "-----\n",
      "Num of nan values in Visitors: 0\n"
     ]
    },
    {
     "data": {
      "text/html": [
       "<div>\n",
       "<style scoped>\n",
       "    .dataframe tbody tr th:only-of-type {\n",
       "        vertical-align: middle;\n",
       "    }\n",
       "\n",
       "    .dataframe tbody tr th {\n",
       "        vertical-align: top;\n",
       "    }\n",
       "\n",
       "    .dataframe thead th {\n",
       "        text-align: right;\n",
       "    }\n",
       "</style>\n",
       "<table border=\"1\" class=\"dataframe\">\n",
       "  <thead>\n",
       "    <tr style=\"text-align: right;\">\n",
       "      <th></th>\n",
       "      <th>publicName</th>\n",
       "      <th>translationSetId</th>\n",
       "      <th>Visitors</th>\n",
       "      <th>History</th>\n",
       "      <th>Visual</th>\n",
       "      <th>Culture</th>\n",
       "      <th>Naval</th>\n",
       "      <th>Nature</th>\n",
       "      <th>Tech</th>\n",
       "      <th>Ethnology</th>\n",
       "      <th>small_museum</th>\n",
       "    </tr>\n",
       "  </thead>\n",
       "  <tbody>\n",
       "    <tr>\n",
       "      <th>0</th>\n",
       "      <td>ABC Architectuurcentrum Haarlem</td>\n",
       "      <td>3bcb3ba4-1675-461b-880e-2676f8c7def9</td>\n",
       "      <td>20000.000</td>\n",
       "      <td>0.000</td>\n",
       "      <td>0.000</td>\n",
       "      <td>0.000</td>\n",
       "      <td>0.000</td>\n",
       "      <td>0.000</td>\n",
       "      <td>0.000</td>\n",
       "      <td>0.000</td>\n",
       "      <td>1</td>\n",
       "    </tr>\n",
       "    <tr>\n",
       "      <th>1</th>\n",
       "      <td>Afrika Museum</td>\n",
       "      <td>b5023390-ced1-4210-a14c-23c349b2ee15</td>\n",
       "      <td>70000.000</td>\n",
       "      <td>0.000</td>\n",
       "      <td>0.000</td>\n",
       "      <td>0.000</td>\n",
       "      <td>0.000</td>\n",
       "      <td>0.000</td>\n",
       "      <td>0.000</td>\n",
       "      <td>1.000</td>\n",
       "      <td>0</td>\n",
       "    </tr>\n",
       "    <tr>\n",
       "      <th>2</th>\n",
       "      <td>Agrarisch Museum Westerhem</td>\n",
       "      <td>1c731866-d25c-489a-b1ea-1e04a1cca554</td>\n",
       "      <td>1200.000</td>\n",
       "      <td>1.000</td>\n",
       "      <td>0.000</td>\n",
       "      <td>0.000</td>\n",
       "      <td>0.000</td>\n",
       "      <td>0.000</td>\n",
       "      <td>0.000</td>\n",
       "      <td>0.000</td>\n",
       "      <td>1</td>\n",
       "    </tr>\n",
       "    <tr>\n",
       "      <th>3</th>\n",
       "      <td>Airborne Museum at Hartenstein</td>\n",
       "      <td>a7e42402-9eb9-4312-abf5-ae09e951e068</td>\n",
       "      <td>120000.000</td>\n",
       "      <td>1.000</td>\n",
       "      <td>0.000</td>\n",
       "      <td>1.000</td>\n",
       "      <td>0.000</td>\n",
       "      <td>0.000</td>\n",
       "      <td>0.000</td>\n",
       "      <td>0.000</td>\n",
       "      <td>0</td>\n",
       "    </tr>\n",
       "    <tr>\n",
       "      <th>4</th>\n",
       "      <td>Allard Pierson</td>\n",
       "      <td>6ed658b1-4ce7-4df9-9472-4b0271d044a3</td>\n",
       "      <td>90000.000</td>\n",
       "      <td>1.000</td>\n",
       "      <td>0.000</td>\n",
       "      <td>0.000</td>\n",
       "      <td>0.000</td>\n",
       "      <td>0.000</td>\n",
       "      <td>0.000</td>\n",
       "      <td>0.000</td>\n",
       "      <td>0</td>\n",
       "    </tr>\n",
       "  </tbody>\n",
       "</table>\n",
       "</div>"
      ],
      "text/plain": [
       "                        publicName                      translationSetId  \\\n",
       "0  ABC Architectuurcentrum Haarlem  3bcb3ba4-1675-461b-880e-2676f8c7def9   \n",
       "1                    Afrika Museum  b5023390-ced1-4210-a14c-23c349b2ee15   \n",
       "2       Agrarisch Museum Westerhem  1c731866-d25c-489a-b1ea-1e04a1cca554   \n",
       "3   Airborne Museum at Hartenstein  a7e42402-9eb9-4312-abf5-ae09e951e068   \n",
       "4                   Allard Pierson  6ed658b1-4ce7-4df9-9472-4b0271d044a3   \n",
       "\n",
       "    Visitors  History  Visual  Culture  Naval  Nature  Tech  Ethnology  \\\n",
       "0  20000.000    0.000   0.000    0.000  0.000   0.000 0.000      0.000   \n",
       "1  70000.000    0.000   0.000    0.000  0.000   0.000 0.000      1.000   \n",
       "2   1200.000    1.000   0.000    0.000  0.000   0.000 0.000      0.000   \n",
       "3 120000.000    1.000   0.000    1.000  0.000   0.000 0.000      0.000   \n",
       "4  90000.000    1.000   0.000    0.000  0.000   0.000 0.000      0.000   \n",
       "\n",
       "   small_museum  \n",
       "0             1  \n",
       "1             0  \n",
       "2             1  \n",
       "3             0  \n",
       "4             0  "
      ]
     },
     "execution_count": 17,
     "metadata": {},
     "output_type": "execute_result"
    }
   ],
   "source": [
    "output = small_large(new)\n",
    "# output.to_csv('output_musea.csv', index=False)\n",
    "print('-----')\n",
    "print(\"Num of nan values in Visitors:\", output.Visitors.isna().sum())\n",
    "output.head()"
   ]
  },
  {
   "cell_type": "markdown",
   "metadata": {},
   "source": [
    "# Append manual missing categories"
   ]
  },
  {
   "cell_type": "code",
   "execution_count": 18,
   "metadata": {},
   "outputs": [
    {
     "data": {
      "text/html": [
       "<div>\n",
       "<style scoped>\n",
       "    .dataframe tbody tr th:only-of-type {\n",
       "        vertical-align: middle;\n",
       "    }\n",
       "\n",
       "    .dataframe tbody tr th {\n",
       "        vertical-align: top;\n",
       "    }\n",
       "\n",
       "    .dataframe thead th {\n",
       "        text-align: right;\n",
       "    }\n",
       "</style>\n",
       "<table border=\"1\" class=\"dataframe\">\n",
       "  <thead>\n",
       "    <tr style=\"text-align: right;\">\n",
       "      <th></th>\n",
       "      <th>publicName</th>\n",
       "      <th>translationSetId</th>\n",
       "      <th>Visitors</th>\n",
       "      <th>History</th>\n",
       "      <th>Visual</th>\n",
       "      <th>Culture</th>\n",
       "      <th>Naval</th>\n",
       "      <th>Nature</th>\n",
       "      <th>Tech</th>\n",
       "      <th>Ethnology</th>\n",
       "      <th>small_museum</th>\n",
       "    </tr>\n",
       "  </thead>\n",
       "  <tbody>\n",
       "    <tr>\n",
       "      <th>0</th>\n",
       "      <td>ABC Architectuurcentrum Haarlem</td>\n",
       "      <td>3bcb3ba4-1675-461b-880e-2676f8c7def9</td>\n",
       "      <td>20000.000</td>\n",
       "      <td>0.000</td>\n",
       "      <td>0.000</td>\n",
       "      <td>0.000</td>\n",
       "      <td>0.000</td>\n",
       "      <td>0.000</td>\n",
       "      <td>0.000</td>\n",
       "      <td>0.000</td>\n",
       "      <td>1</td>\n",
       "    </tr>\n",
       "    <tr>\n",
       "      <th>9</th>\n",
       "      <td>BAK, basis voor actuele kunst</td>\n",
       "      <td>ae32e45b-c9aa-4cc1-ac06-6ddb93c9630b</td>\n",
       "      <td>20000.000</td>\n",
       "      <td>0.000</td>\n",
       "      <td>0.000</td>\n",
       "      <td>0.000</td>\n",
       "      <td>0.000</td>\n",
       "      <td>0.000</td>\n",
       "      <td>0.000</td>\n",
       "      <td>0.000</td>\n",
       "      <td>1</td>\n",
       "    </tr>\n",
       "    <tr>\n",
       "      <th>12</th>\n",
       "      <td>Beeld en Geluid</td>\n",
       "      <td>92f68db4-1a4e-4847-990b-9710c4696e9a</td>\n",
       "      <td>20000.000</td>\n",
       "      <td>0.000</td>\n",
       "      <td>0.000</td>\n",
       "      <td>0.000</td>\n",
       "      <td>0.000</td>\n",
       "      <td>0.000</td>\n",
       "      <td>0.000</td>\n",
       "      <td>0.000</td>\n",
       "      <td>1</td>\n",
       "    </tr>\n",
       "    <tr>\n",
       "      <th>13</th>\n",
       "      <td>Beeld en Geluid Den Haag</td>\n",
       "      <td>97dca6c1-6b1a-4ffe-a048-83ecce6707a5</td>\n",
       "      <td>20000.000</td>\n",
       "      <td>0.000</td>\n",
       "      <td>0.000</td>\n",
       "      <td>0.000</td>\n",
       "      <td>0.000</td>\n",
       "      <td>0.000</td>\n",
       "      <td>0.000</td>\n",
       "      <td>0.000</td>\n",
       "      <td>1</td>\n",
       "    </tr>\n",
       "    <tr>\n",
       "      <th>17</th>\n",
       "      <td>Biesbosch MuseumEiland</td>\n",
       "      <td>f61643e5-0237-4536-90ef-d3e8f721de21</td>\n",
       "      <td>20000.000</td>\n",
       "      <td>0.000</td>\n",
       "      <td>0.000</td>\n",
       "      <td>0.000</td>\n",
       "      <td>0.000</td>\n",
       "      <td>0.000</td>\n",
       "      <td>0.000</td>\n",
       "      <td>0.000</td>\n",
       "      <td>1</td>\n",
       "    </tr>\n",
       "  </tbody>\n",
       "</table>\n",
       "</div>"
      ],
      "text/plain": [
       "                         publicName                      translationSetId  \\\n",
       "0   ABC Architectuurcentrum Haarlem  3bcb3ba4-1675-461b-880e-2676f8c7def9   \n",
       "9     BAK, basis voor actuele kunst  ae32e45b-c9aa-4cc1-ac06-6ddb93c9630b   \n",
       "12                  Beeld en Geluid  92f68db4-1a4e-4847-990b-9710c4696e9a   \n",
       "13         Beeld en Geluid Den Haag  97dca6c1-6b1a-4ffe-a048-83ecce6707a5   \n",
       "17           Biesbosch MuseumEiland  f61643e5-0237-4536-90ef-d3e8f721de21   \n",
       "\n",
       "    Visitors  History  Visual  Culture  Naval  Nature  Tech  Ethnology  \\\n",
       "0  20000.000    0.000   0.000    0.000  0.000   0.000 0.000      0.000   \n",
       "9  20000.000    0.000   0.000    0.000  0.000   0.000 0.000      0.000   \n",
       "12 20000.000    0.000   0.000    0.000  0.000   0.000 0.000      0.000   \n",
       "13 20000.000    0.000   0.000    0.000  0.000   0.000 0.000      0.000   \n",
       "17 20000.000    0.000   0.000    0.000  0.000   0.000 0.000      0.000   \n",
       "\n",
       "    small_museum  \n",
       "0              1  \n",
       "9              1  \n",
       "12             1  \n",
       "13             1  \n",
       "17             1  "
      ]
     },
     "execution_count": 18,
     "metadata": {},
     "output_type": "execute_result"
    }
   ],
   "source": [
    "missing_categories = output.loc[(output.History == 0) & (output.Visual == 0) & (output.Culture == 0) & (output.Naval == 0) & \n",
    "                                (output.Nature == 0) & (output.Tech == 0) & (output.Ethnology == 0)]\n",
    "# missing_categories.to_csv('missing_categories.csv', index=False)\n",
    "missing_categories.head()"
   ]
  },
  {
   "cell_type": "code",
   "execution_count": 19,
   "metadata": {},
   "outputs": [
    {
     "data": {
      "text/html": [
       "<div>\n",
       "<style scoped>\n",
       "    .dataframe tbody tr th:only-of-type {\n",
       "        vertical-align: middle;\n",
       "    }\n",
       "\n",
       "    .dataframe tbody tr th {\n",
       "        vertical-align: top;\n",
       "    }\n",
       "\n",
       "    .dataframe thead th {\n",
       "        text-align: right;\n",
       "    }\n",
       "</style>\n",
       "<table border=\"1\" class=\"dataframe\">\n",
       "  <thead>\n",
       "    <tr style=\"text-align: right;\">\n",
       "      <th></th>\n",
       "      <th>publicName</th>\n",
       "      <th>translationSetId</th>\n",
       "      <th>Visitors</th>\n",
       "      <th>History</th>\n",
       "      <th>Visual</th>\n",
       "      <th>Culture</th>\n",
       "      <th>Naval</th>\n",
       "      <th>Nature</th>\n",
       "      <th>Tech</th>\n",
       "      <th>Ethnology</th>\n",
       "      <th>small_museum</th>\n",
       "    </tr>\n",
       "  </thead>\n",
       "  <tbody>\n",
       "    <tr>\n",
       "      <th>0</th>\n",
       "      <td>ABC Architectuurcentrum Haarlem</td>\n",
       "      <td>3bcb3ba4-1675-461b-880e-2676f8c7def9</td>\n",
       "      <td>20000.000</td>\n",
       "      <td>1.000</td>\n",
       "      <td>1.000</td>\n",
       "      <td>0.000</td>\n",
       "      <td>0.000</td>\n",
       "      <td>0.000</td>\n",
       "      <td>1.000</td>\n",
       "      <td>0.000</td>\n",
       "      <td>1</td>\n",
       "    </tr>\n",
       "    <tr>\n",
       "      <th>1</th>\n",
       "      <td>Afrika Museum</td>\n",
       "      <td>b5023390-ced1-4210-a14c-23c349b2ee15</td>\n",
       "      <td>70000.000</td>\n",
       "      <td>0.000</td>\n",
       "      <td>0.000</td>\n",
       "      <td>0.000</td>\n",
       "      <td>0.000</td>\n",
       "      <td>0.000</td>\n",
       "      <td>0.000</td>\n",
       "      <td>1.000</td>\n",
       "      <td>0</td>\n",
       "    </tr>\n",
       "    <tr>\n",
       "      <th>2</th>\n",
       "      <td>Agrarisch Museum Westerhem</td>\n",
       "      <td>1c731866-d25c-489a-b1ea-1e04a1cca554</td>\n",
       "      <td>1200.000</td>\n",
       "      <td>1.000</td>\n",
       "      <td>0.000</td>\n",
       "      <td>0.000</td>\n",
       "      <td>0.000</td>\n",
       "      <td>0.000</td>\n",
       "      <td>0.000</td>\n",
       "      <td>0.000</td>\n",
       "      <td>1</td>\n",
       "    </tr>\n",
       "    <tr>\n",
       "      <th>3</th>\n",
       "      <td>Airborne Museum at Hartenstein</td>\n",
       "      <td>a7e42402-9eb9-4312-abf5-ae09e951e068</td>\n",
       "      <td>120000.000</td>\n",
       "      <td>1.000</td>\n",
       "      <td>0.000</td>\n",
       "      <td>1.000</td>\n",
       "      <td>0.000</td>\n",
       "      <td>0.000</td>\n",
       "      <td>0.000</td>\n",
       "      <td>0.000</td>\n",
       "      <td>0</td>\n",
       "    </tr>\n",
       "    <tr>\n",
       "      <th>4</th>\n",
       "      <td>Allard Pierson</td>\n",
       "      <td>6ed658b1-4ce7-4df9-9472-4b0271d044a3</td>\n",
       "      <td>90000.000</td>\n",
       "      <td>1.000</td>\n",
       "      <td>0.000</td>\n",
       "      <td>0.000</td>\n",
       "      <td>0.000</td>\n",
       "      <td>0.000</td>\n",
       "      <td>0.000</td>\n",
       "      <td>0.000</td>\n",
       "      <td>0</td>\n",
       "    </tr>\n",
       "  </tbody>\n",
       "</table>\n",
       "</div>"
      ],
      "text/plain": [
       "                        publicName                      translationSetId  \\\n",
       "0  ABC Architectuurcentrum Haarlem  3bcb3ba4-1675-461b-880e-2676f8c7def9   \n",
       "1                    Afrika Museum  b5023390-ced1-4210-a14c-23c349b2ee15   \n",
       "2       Agrarisch Museum Westerhem  1c731866-d25c-489a-b1ea-1e04a1cca554   \n",
       "3   Airborne Museum at Hartenstein  a7e42402-9eb9-4312-abf5-ae09e951e068   \n",
       "4                   Allard Pierson  6ed658b1-4ce7-4df9-9472-4b0271d044a3   \n",
       "\n",
       "    Visitors  History  Visual  Culture  Naval  Nature  Tech  Ethnology  \\\n",
       "0  20000.000    1.000   1.000    0.000  0.000   0.000 1.000      0.000   \n",
       "1  70000.000    0.000   0.000    0.000  0.000   0.000 0.000      1.000   \n",
       "2   1200.000    1.000   0.000    0.000  0.000   0.000 0.000      0.000   \n",
       "3 120000.000    1.000   0.000    1.000  0.000   0.000 0.000      0.000   \n",
       "4  90000.000    1.000   0.000    0.000  0.000   0.000 0.000      0.000   \n",
       "\n",
       "   small_museum  \n",
       "0             1  \n",
       "1             0  \n",
       "2             1  \n",
       "3             0  \n",
       "4             0  "
      ]
     },
     "execution_count": 19,
     "metadata": {},
     "output_type": "execute_result"
    }
   ],
   "source": [
    "manual_missing_categories = pd.read_csv('missing_categories.csv', sep=';')\n",
    "output = output.append(manual_missing_categories, ignore_index=True)\n",
    "output.drop_duplicates(subset=['translationSetId'], keep='last', inplace=True)\n",
    "output = output.sort_values(by=['publicName']).reset_index(drop=True)\n",
    "output.to_csv('output_musea.csv', index=False)\n",
    "output.head()"
   ]
  }
 ],
 "metadata": {
  "kernelspec": {
   "display_name": "Python 3",
   "language": "python",
   "name": "python3"
  },
  "language_info": {
   "codemirror_mode": {
    "name": "ipython",
    "version": 3
   },
   "file_extension": ".py",
   "mimetype": "text/x-python",
   "name": "python",
   "nbconvert_exporter": "python",
   "pygments_lexer": "ipython3",
   "version": "3.8.5"
  },
  "toc-autonumbering": true,
  "toc-showmarkdowntxt": true
 },
 "nbformat": 4,
 "nbformat_minor": 4
}
